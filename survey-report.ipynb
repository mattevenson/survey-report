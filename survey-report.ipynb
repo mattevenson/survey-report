{
 "cells": [
  {
   "cell_type": "code",
   "execution_count": null,
   "metadata": {},
   "outputs": [],
   "source": [
    "# Student Fulfillment Survey:\n",
    "## Let's Be Data Scientists!\n",
    "\n",
    "![Data scientist at work](https://analyticsindiamag.com/wp-content/uploads/2017/06/32005410.jpg)\n",
    "___\n",
    "\n",
    "Definition of **fulfillment** courtesy of [Dictionary.com](https://www.dictionary.com):\n",
    "> the state or quality of being *fulfilled*; completion; realization\n",
    "\n",
    "### What do we want to explore?\n",
    "\n",
    "- What is fulfillment?\n",
    "- How does fulfillment compare to happiness?\n",
    "- What do CHS seniors think about fulfillment?"
   ]
  },
  {
   "cell_type": "code",
   "execution_count": null,
   "metadata": {},
   "outputs": [],
   "source": [
    "import pandas as pd\n",
    "import numpy as np\n",
    "import matplotlib.pyplot as plt\n",
    "import seaborn as sns"
   ]
  },
  {
   "cell_type": "code",
   "execution_count": null,
   "metadata": {},
   "outputs": [],
   "source": [
    "%matplotlib inline\n",
    "plt.style.use('fivethirtyeight')"
   ]
  },
  {
   "cell_type": "code",
   "execution_count": null,
   "metadata": {},
   "outputs": [],
   "source": [
    "df = pd.read_csv('Student Fulfillment Survey (Responses) - Form Responses 1.csv').iloc[:,2:]\n",
    "df"
   ]
  },
  {
   "cell_type": "code",
   "execution_count": null,
   "metadata": {
    "scrolled": true
   },
   "outputs": [],
   "source": [
    "male_gpas = df[df.iloc[:, 0] == 'Male'].iloc[:,2].values\n",
    "female_gpas = df[df.iloc[:, 0] == 'Female'].iloc[:,2].values\n",
    "bplot = plt.boxplot([male_gpas, female_gpas], widths=[0.3, 0.3], labels=[\"Male\", \"Female\"], vert=False, patch_artist=True)\n",
    "colors = ['cornflowerblue', 'pink']\n",
    "[patch.set_facecolor(color) for (patch, color) in zip(bplot['boxes'], colors)]\n",
    "plt.suptitle(\"How does gender relate to GPA?\")\n",
    "plt.xlabel(\"GPA\")\n",
    "plt.show()"
   ]
  },
  {
   "cell_type": "code",
   "execution_count": null,
   "metadata": {},
   "outputs": [],
   "source": [
    "x = df.iloc[:, 3]\n",
    "bins = np.arange(1, 7)\n",
    "plt.hist(x, alpha=0.7, bins=bins)\n",
    "plt.yticks(np.arange(0, 22, 2))\n",
    "plt.suptitle(\"How similar are happiness and fulfillment?\")\n",
    "plt.xlabel(\"Percieved Similarity\")\n",
    "plt.ylabel(\"# of Students\")\n",
    "plt.show()"
   ]
  },
  {
   "cell_type": "code",
   "execution_count": null,
   "metadata": {},
   "outputs": [],
   "source": [
    "data = df.iloc[:, 4].value_counts()\n",
    "plt.pie(data.values, labels=data.index, startangle=180, autopct='%d%%', explode=[0, 0.05])\n",
    "plt.axis('equal')\n",
    "plt.suptitle('Do students prefer happiness or fulfillment?')\n",
    "plt.show()"
   ]
  },
  {
   "cell_type": "code",
   "execution_count": null,
   "metadata": {},
   "outputs": [],
   "source": [
    "x = df[df.iloc[:, 4] == 'Happiness'].iloc[:, 3]\n",
    "y = df[df.iloc[:, 4] == 'Fulfillment'].iloc[:, 3]\n",
    "bins = np.arange(1, 7)\n",
    "plt.hist(x, bins, alpha=0.5, label=\"Happiness\")\n",
    "plt.hist(y, bins, alpha=0.5, label=\"Fulfillment\")\n",
    "plt.legend(title=\"Preference\", loc=\"upper left\")\n",
    "plt.suptitle(\"Why might some students prefer fulfillment?\")\n",
    "plt.xlabel(\"Perceived Similarity\")\n",
    "plt.ylabel(\"# of Students\")\n",
    "plt.show()"
   ]
  },
  {
   "cell_type": "code",
   "execution_count": null,
   "metadata": {},
   "outputs": [],
   "source": [
    "data = df.iloc[:, 5].value_counts()\n",
    "plt.pie(data.values, labels=data.index, autopct='%d%%')\n",
    "plt.axis('equal')\n",
    "plt.suptitle(\"Do you think a purpose is necessary to live a fulfilling life?\")\n",
    "plt.show()"
   ]
  },
  {
   "cell_type": "code",
   "execution_count": null,
   "metadata": {},
   "outputs": [],
   "source": [
    "responses = df.iloc[:, 8]\n",
    "pd.DataFrame(responses.dropna())"
   ]
  },
  {
   "cell_type": "code",
   "execution_count": null,
   "metadata": {},
   "outputs": [],
   "source": [
    "percent = {'>5%': 0.00,\n",
    "           '5%': 0.05,\n",
    "           '10%': 0.10,\n",
    "           '20%': 0.20,\n",
    "           '30%': 0.30,\n",
    "           '40%': 0.40,\n",
    "           '50%': 0.50,\n",
    "           '60%': 0.60,\n",
    "           '70%': 0.70,\n",
    "           '80%': 0.80,\n",
    "           '90%': 0.90,\n",
    "           '100%': 1.00}\n",
    "\n",
    "prop = df.iloc[:, 9].map(percent)\n",
    "plt.hist(prop, bins=np.linspace(0, 1, 12), alpha=0.7, color='red')\n",
    "plt.suptitle(\"How much of your time is spent on fulfilling activities?\")\n",
    "plt.xlabel(\"Proportion of Time Spent on Fulfilling Activities\")\n",
    "plt.ylabel(\"# of Students\")\n",
    "plt.show()"
   ]
  },
  {
   "cell_type": "code",
   "execution_count": null,
   "metadata": {},
   "outputs": [],
   "source": [
    "gpas = df.iloc[:, 2]\n",
    "plt.scatter(prop, gpas, c='lime', alpha=0.7)\n",
    "plt.suptitle(\"Is gpa related to time spent on fulfilling activies?\")\n",
    "plt.xlabel(\"Proportion of Time Spent on Fulfilling Activities\")\n",
    "plt.ylabel(\"GPA\")\n",
    "plt.show()"
   ]
  },
  {
   "cell_type": "code",
   "execution_count": null,
   "metadata": {},
   "outputs": [],
   "source": [
    "x = df.iloc[:, 10].value_counts()\n",
    "plt.pie(x.values, labels=x.index, autopct='%d%%')\n",
    "plt.axis('equal')\n",
    "plt.suptitle('Do students think their friends lead more fulfilling lives?')\n",
    "plt.show()"
   ]
  },
  {
   "cell_type": "code",
   "execution_count": null,
   "metadata": {},
   "outputs": [],
   "source": [
    "x = df.iloc[:, 11].value_counts(ascending=True)\n",
    "x.plot.barh()\n",
    "plt.suptitle('Can something that you are forced to do still be fulfilling?')\n",
    "plt.xlabel('# of Students')\n",
    "plt.ylabel('Response')\n",
    "plt.show()"
   ]
  },
  {
   "cell_type": "code",
   "execution_count": null,
   "metadata": {},
   "outputs": [],
   "source": [
    "from textwrap import wrap\n",
    "\n",
    "data = df.iloc[:, 6:8].apply(pd.value_counts)\n",
    "labels = ['\\n'.join(wrap(l, 15)) for l in data.index]\n",
    "index = np.arange(data.index.size)\n",
    "width = 0.4\n",
    "\n",
    "plt.figure(figsize=(10,5))\n",
    "plt.bar(index, data.iloc[:, 0].values, width, label='Most Fulfilling')\n",
    "plt.bar(index + width, data.iloc[:, 1].values, width, label='Least Fulfilling')\n",
    "\n",
    "plt.xticks(index + width/2, labels)\n",
    "plt.suptitle('What do students find the most and least fulfilling?')\n",
    "plt.xlabel('Area of Life')\n",
    "plt.ylabel('# of Students')\n",
    "plt.legend(loc='upper right')\n",
    "plt.show()"
   ]
  },
  {
   "cell_type": "markdown",
   "metadata": {},
   "source": [
    "# That's it folks!\n",
    "\n",
    "![Cat wants more data](https://static1.squarespace.com/static/53ece631e4b0afa103676669/t/5636ae13e4b0e778f327f58b/1446424083833/?format=500w)"
   ]
  }
 ],
 "metadata": {
  "kernelspec": {
   "display_name": "Python 3",
   "language": "python",
   "name": "python3"
  },
  "language_info": {
   "codemirror_mode": {
    "name": "ipython",
    "version": 3
   },
   "file_extension": ".py",
   "mimetype": "text/x-python",
   "name": "python",
   "nbconvert_exporter": "python",
   "pygments_lexer": "ipython3",
   "version": "3.6.4"
  }
 },
 "nbformat": 4,
 "nbformat_minor": 2
}
